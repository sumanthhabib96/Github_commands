{
 "cells": [
  {
   "cell_type": "code",
   "execution_count": 7,
   "metadata": {},
   "outputs": [
    {
     "name": "stdout",
     "output_type": "stream",
     "text": [
      "Requirement already satisfied: flask in c:\\users\\sumanth habib\\anaconda3\\envs\\flask_app\\lib\\site-packages (3.0.0)\n",
      "Requirement already satisfied: Werkzeug>=3.0.0 in c:\\users\\sumanth habib\\anaconda3\\envs\\flask_app\\lib\\site-packages (from flask) (3.0.1)\n",
      "Requirement already satisfied: Jinja2>=3.1.2 in c:\\users\\sumanth habib\\anaconda3\\envs\\flask_app\\lib\\site-packages (from flask) (3.1.2)\n",
      "Requirement already satisfied: itsdangerous>=2.1.2 in c:\\users\\sumanth habib\\anaconda3\\envs\\flask_app\\lib\\site-packages (from flask) (2.1.2)\n",
      "Requirement already satisfied: click>=8.1.3 in c:\\users\\sumanth habib\\anaconda3\\envs\\flask_app\\lib\\site-packages (from flask) (8.1.7)\n",
      "Requirement already satisfied: blinker>=1.6.2 in c:\\users\\sumanth habib\\anaconda3\\envs\\flask_app\\lib\\site-packages (from flask) (1.6.3)\n",
      "Requirement already satisfied: importlib-metadata>=3.6.0 in c:\\users\\sumanth habib\\anaconda3\\envs\\flask_app\\lib\\site-packages (from flask) (6.8.0)\n",
      "Requirement already satisfied: colorama in c:\\users\\sumanth habib\\anaconda3\\envs\\flask_app\\lib\\site-packages (from click>=8.1.3->flask) (0.4.6)\n",
      "Requirement already satisfied: zipp>=0.5 in c:\\users\\sumanth habib\\anaconda3\\envs\\flask_app\\lib\\site-packages (from importlib-metadata>=3.6.0->flask) (3.17.0)\n",
      "Requirement already satisfied: MarkupSafe>=2.0 in c:\\users\\sumanth habib\\anaconda3\\envs\\flask_app\\lib\\site-packages (from Jinja2>=3.1.2->flask) (2.1.3)\n",
      "Collecting flask_pymongo\n",
      "  Downloading Flask_PyMongo-2.3.0-py2.py3-none-any.whl (12 kB)\n",
      "Requirement already satisfied: Flask>=0.11 in c:\\users\\sumanth habib\\anaconda3\\envs\\flask_app\\lib\\site-packages (from flask_pymongo) (3.0.0)\n",
      "Collecting PyMongo>=3.3 (from flask_pymongo)\n",
      "  Downloading pymongo-4.5.0-cp39-cp39-win_amd64.whl.metadata (22 kB)\n",
      "Requirement already satisfied: Werkzeug>=3.0.0 in c:\\users\\sumanth habib\\anaconda3\\envs\\flask_app\\lib\\site-packages (from Flask>=0.11->flask_pymongo) (3.0.1)\n",
      "Requirement already satisfied: Jinja2>=3.1.2 in c:\\users\\sumanth habib\\anaconda3\\envs\\flask_app\\lib\\site-packages (from Flask>=0.11->flask_pymongo) (3.1.2)\n",
      "Requirement already satisfied: itsdangerous>=2.1.2 in c:\\users\\sumanth habib\\anaconda3\\envs\\flask_app\\lib\\site-packages (from Flask>=0.11->flask_pymongo) (2.1.2)\n",
      "Requirement already satisfied: click>=8.1.3 in c:\\users\\sumanth habib\\anaconda3\\envs\\flask_app\\lib\\site-packages (from Flask>=0.11->flask_pymongo) (8.1.7)\n",
      "Requirement already satisfied: blinker>=1.6.2 in c:\\users\\sumanth habib\\anaconda3\\envs\\flask_app\\lib\\site-packages (from Flask>=0.11->flask_pymongo) (1.6.3)\n",
      "Requirement already satisfied: importlib-metadata>=3.6.0 in c:\\users\\sumanth habib\\anaconda3\\envs\\flask_app\\lib\\site-packages (from Flask>=0.11->flask_pymongo) (6.8.0)\n",
      "Collecting dnspython<3.0.0,>=1.16.0 (from PyMongo>=3.3->flask_pymongo)\n",
      "  Downloading dnspython-2.4.2-py3-none-any.whl.metadata (4.9 kB)\n",
      "Requirement already satisfied: colorama in c:\\users\\sumanth habib\\anaconda3\\envs\\flask_app\\lib\\site-packages (from click>=8.1.3->Flask>=0.11->flask_pymongo) (0.4.6)\n",
      "Requirement already satisfied: zipp>=0.5 in c:\\users\\sumanth habib\\anaconda3\\envs\\flask_app\\lib\\site-packages (from importlib-metadata>=3.6.0->Flask>=0.11->flask_pymongo) (3.17.0)\n",
      "Requirement already satisfied: MarkupSafe>=2.0 in c:\\users\\sumanth habib\\anaconda3\\envs\\flask_app\\lib\\site-packages (from Jinja2>=3.1.2->Flask>=0.11->flask_pymongo) (2.1.3)\n",
      "Downloading pymongo-4.5.0-cp39-cp39-win_amd64.whl (468 kB)\n",
      "   ---------------------------------------- 0.0/468.2 kB ? eta -:--:--\n",
      "   -- ------------------------------------- 30.7/468.2 kB 1.3 MB/s eta 0:00:01\n",
      "   ---------- ----------------------------- 122.9/468.2 kB 1.2 MB/s eta 0:00:01\n",
      "   -------------------- ------------------- 235.5/468.2 kB 1.6 MB/s eta 0:00:01\n",
      "   ---------------------------------------  460.8/468.2 kB 2.4 MB/s eta 0:00:01\n",
      "   ---------------------------------------- 468.2/468.2 kB 1.9 MB/s eta 0:00:00\n",
      "Downloading dnspython-2.4.2-py3-none-any.whl (300 kB)\n",
      "   ---------------------------------------- 0.0/300.4 kB ? eta -:--:--\n",
      "   --------------------------------------  297.0/300.4 kB 17.9 MB/s eta 0:00:01\n",
      "   ---------------------------------------- 300.4/300.4 kB 4.6 MB/s eta 0:00:00\n",
      "Installing collected packages: dnspython, PyMongo, flask_pymongo\n",
      "Successfully installed PyMongo-4.5.0 dnspython-2.4.2 flask_pymongo-2.3.0\n"
     ]
    }
   ],
   "source": [
    "!pip install flask\n",
    "!pip install flask_pymongo"
   ]
  },
  {
   "cell_type": "code",
   "execution_count": 13,
   "metadata": {},
   "outputs": [],
   "source": [
    "from flask import Flask\n",
    "from flask_pymongo import PyMongo\n",
    "from bson.objectid import ObjectId\n",
    "from bson.json_util import dumps"
   ]
  },
  {
   "cell_type": "code",
   "execution_count": 17,
   "metadata": {},
   "outputs": [],
   "source": [
    "from flask import jsonify,request"
   ]
  },
  {
   "cell_type": "code",
   "execution_count": 29,
   "metadata": {},
   "outputs": [
    {
     "name": "stdout",
     "output_type": "stream",
     "text": [
      " * Serving Flask app '__main__'\n",
      " * Debug mode: on\n"
     ]
    },
    {
     "name": "stderr",
     "output_type": "stream",
     "text": [
      "WARNING: This is a development server. Do not use it in a production deployment. Use a production WSGI server instead.\n",
      " * Running on http://127.0.0.1:5000\n",
      "Press CTRL+C to quit\n"
     ]
    },
    {
     "name": "stderr",
     "output_type": "stream",
     "text": [
      "127.0.0.1 - - [27/Oct/2023 01:51:00] \"PUT /update/653ac22b897acf0c40887a22 HTTP/1.1\" 200 -\n"
     ]
    }
   ],
   "source": [
    "app=Flask(__name__)\n",
    "app.secret_key='secretkey'\n",
    "app.config['MONGO_URI']= \"mongodb://localhost:27017/Ecommerce\"\n",
    "mongo=PyMongo(app)\n",
    "\n",
    "@app.route('/add',methods=['POST'])\n",
    "def add_products():\n",
    "    _json=request.json\n",
    "    _product_name=_json['product_name']\n",
    "    _product_id=_json['product_id']\n",
    "\n",
    "    if _product_name and _product_id and request.method=='POST':\n",
    "        id=mongo.db.Products.insert_one({'product_name':_product_name,'product_id':_product_id})\n",
    "        resp=jsonify(\"Products added successfully\")\n",
    "        resp.status_code=200\n",
    "        return resp\n",
    "    else:\n",
    "        return not_found()\n",
    "@app.route('/products',methods=['GET'])\n",
    "def products():\n",
    "    products=mongo.db.Products.find()\n",
    "    resp=dumps(products)\n",
    "    return resp\n",
    "\n",
    "@app.route('/products/<id>')\n",
    "def product(id):\n",
    "    product=mongo.db.Products.find_one({\"_id\":ObjectId(id)})\n",
    "    resp=dumps(product)\n",
    "    return resp\n",
    "\n",
    "@app.route('/delete/<id>',methods=['DELETE'])\n",
    "def delete_product(id):\n",
    "    mongo.db.Products.delete_one({'_id':ObjectId(id)}) \n",
    "    resp=jsonify(\"Products deleted successfully\")\n",
    "    resp.status_code=200\n",
    "    return resp\n",
    "\n",
    "@app.route('/update/<id>',methods=['PUT'])\n",
    "def product_update(id):\n",
    "    _id=id\n",
    "    _json=request.json\n",
    "    _product_name=_json['product_name']\n",
    "    _product_id=_json['product_id']\n",
    "    if _product_name and _product_id and request.method=='PUT':\n",
    "        mongo.db.Products.update_one({'_id':ObjectId(id['$oid']) if '$oid' in _id else ObjectId(_id)},{\"$set\":{\"product_name\":_product_name,\"product_id\":_product_id}})\n",
    "        resp=jsonify(\"Product updated successfully\")\n",
    "        resp.status_code=200\n",
    "        return resp\n",
    "    else:\n",
    "        return not_found()\n",
    "    \n",
    "@app.errorhandler(404)\n",
    "def not_found(error=True):\n",
    "    message={\n",
    "        'status':404,\n",
    "        'message':'Not Found'+request.url\n",
    "    }\n",
    "    resp=jsonify(message)\n",
    "    resp.status_code=404\n",
    "    return resp\n",
    "\n",
    "\n",
    "\n",
    "if __name__==\"__main__\":\n",
    "    app.run(debug=True,use_reloader=False)\n",
    "    "
   ]
  },
  {
   "cell_type": "code",
   "execution_count": null,
   "metadata": {},
   "outputs": [],
   "source": []
  }
 ],
 "metadata": {
  "kernelspec": {
   "display_name": "flask_app",
   "language": "python",
   "name": "python3"
  },
  "language_info": {
   "codemirror_mode": {
    "name": "ipython",
    "version": 3
   },
   "file_extension": ".py",
   "mimetype": "text/x-python",
   "name": "python",
   "nbconvert_exporter": "python",
   "pygments_lexer": "ipython3",
   "version": "3.9.18"
  },
  "orig_nbformat": 4
 },
 "nbformat": 4,
 "nbformat_minor": 2
}
